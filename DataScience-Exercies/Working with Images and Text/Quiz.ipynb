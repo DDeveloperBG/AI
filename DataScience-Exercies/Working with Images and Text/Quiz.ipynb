{
 "cells": [
  {
   "cell_type": "code",
   "execution_count": 21,
   "id": "941f8092-b969-4bdd-9485-953835e9f8b8",
   "metadata": {},
   "outputs": [],
   "source": [
    "import numpy as np\n",
    "import pandas as pd\n",
    "import matplotlib.pyplot as plt\n",
    "import skimage.io\n",
    "import scipy.ndimage.morphology as ndimage\n",
    "\n",
    "import re\n",
    "import nltk\n",
    "from nltk.corpus import stopwords"
   ]
  },
  {
   "cell_type": "markdown",
   "id": "c0fa876b-13ca-4d69-aca5-522bdfc7b398",
   "metadata": {},
   "source": [
    "# Image"
   ]
  },
  {
   "cell_type": "code",
   "execution_count": 2,
   "id": "e8732923-91d2-4f71-9924-59f421f37027",
   "metadata": {},
   "outputs": [],
   "source": [
    "img = skimage.io.imread('images/hamburger.jpg')"
   ]
  },
  {
   "cell_type": "code",
   "execution_count": 3,
   "id": "77fcd5c9-92af-4650-a456-f654c313fd46",
   "metadata": {},
   "outputs": [],
   "source": [
    "red_mean = np.average(img[:, :, 0])\n",
    "green_mean = np.average(img[:, :, 1])\n",
    "blue_mean = np.average(img[:, :, 2])"
   ]
  },
  {
   "cell_type": "code",
   "execution_count": 4,
   "id": "f2111936-1e8c-48de-b9ba-563fe71a6bdb",
   "metadata": {},
   "outputs": [
    {
     "data": {
      "text/plain": [
       "90.08790156373304"
      ]
     },
     "execution_count": 4,
     "metadata": {},
     "output_type": "execute_result"
    }
   ],
   "source": [
    "max([red_mean, green_mean, blue_mean])"
   ]
  },
  {
   "cell_type": "code",
   "execution_count": 5,
   "id": "2ce09f00-453c-49e9-82df-2b1f486aa1de",
   "metadata": {},
   "outputs": [
    {
     "data": {
      "text/plain": [
       "(array([False,  True]), array([ 78134, 182908], dtype=int64))"
      ]
     },
     "execution_count": 5,
     "metadata": {},
     "output_type": "execute_result"
    }
   ],
   "source": [
    "binary_opened_blue_layer = ndimage.binary_opening(img[:, :, 2], structure=np.ones((3,3)))\n",
    "np.unique(binary_opened_blue_layer, return_counts=True)"
   ]
  },
  {
   "cell_type": "markdown",
   "id": "b1323991-eeef-4a92-acda-e87c36e4105b",
   "metadata": {},
   "source": [
    "# Text"
   ]
  },
  {
   "cell_type": "code",
   "execution_count": 6,
   "id": "411305b8-bc20-451f-ae59-c13f1d50f74a",
   "metadata": {},
   "outputs": [],
   "source": [
    "with open('PrideAndPrejudice.txt') as file:\n",
    "    text = file.read()"
   ]
  },
  {
   "cell_type": "code",
   "execution_count": 7,
   "id": "ac482b4c-d719-4111-8421-03da4c99666b",
   "metadata": {},
   "outputs": [],
   "source": [
    "words = re.split('[^a-zA-Z]', text)\n",
    "words = list(filter(None, (word.lower() for word in words)))"
   ]
  },
  {
   "cell_type": "code",
   "execution_count": 8,
   "id": "2e2dd603-368f-46d6-9518-5529a0dd5d24",
   "metadata": {},
   "outputs": [
    {
     "data": {
      "text/plain": [
       "52"
      ]
     },
     "execution_count": 8,
     "metadata": {},
     "output_type": "execute_result"
    }
   ],
   "source": [
    "words.count('pride')"
   ]
  },
  {
   "cell_type": "code",
   "execution_count": 9,
   "id": "465eab3a-237c-43ed-a720-68b0a298618f",
   "metadata": {},
   "outputs": [
    {
     "data": {
      "text/plain": [
       "10"
      ]
     },
     "execution_count": 9,
     "metadata": {},
     "output_type": "execute_result"
    }
   ],
   "source": [
    "words.count('prejudice')"
   ]
  },
  {
   "cell_type": "code",
   "execution_count": 13,
   "id": "19406a2d-55e6-452e-88ba-e4a6c50dc1f6",
   "metadata": {},
   "outputs": [],
   "source": [
    "stop = set(stopwords.words(\"english\"))\n",
    "words = np.array([w for w in words if w not in stop])"
   ]
  },
  {
   "cell_type": "code",
   "execution_count": 24,
   "id": "c40cfc6d-058b-4460-926e-b2608c3fbd53",
   "metadata": {},
   "outputs": [
    {
     "data": {
      "text/html": [
       "<div>\n",
       "<style scoped>\n",
       "    .dataframe tbody tr th:only-of-type {\n",
       "        vertical-align: middle;\n",
       "    }\n",
       "\n",
       "    .dataframe tbody tr th {\n",
       "        vertical-align: top;\n",
       "    }\n",
       "\n",
       "    .dataframe thead th {\n",
       "        text-align: right;\n",
       "    }\n",
       "</style>\n",
       "<table border=\"1\" class=\"dataframe\">\n",
       "  <thead>\n",
       "    <tr style=\"text-align: right;\">\n",
       "      <th></th>\n",
       "      <th>words</th>\n",
       "      <th>count</th>\n",
       "    </tr>\n",
       "  </thead>\n",
       "  <tbody>\n",
       "    <tr>\n",
       "      <th>3723</th>\n",
       "      <td>mr</td>\n",
       "      <td>785</td>\n",
       "    </tr>\n",
       "    <tr>\n",
       "      <th>1913</th>\n",
       "      <td>elizabeth</td>\n",
       "      <td>634</td>\n",
       "    </tr>\n",
       "    <tr>\n",
       "      <th>1289</th>\n",
       "      <td>could</td>\n",
       "      <td>527</td>\n",
       "    </tr>\n",
       "    <tr>\n",
       "      <th>6353</th>\n",
       "      <td>would</td>\n",
       "      <td>470</td>\n",
       "    </tr>\n",
       "    <tr>\n",
       "      <th>1380</th>\n",
       "      <td>darcy</td>\n",
       "      <td>418</td>\n",
       "    </tr>\n",
       "    <tr>\n",
       "      <th>...</th>\n",
       "      <td>...</td>\n",
       "      <td>...</td>\n",
       "    </tr>\n",
       "    <tr>\n",
       "      <th>3065</th>\n",
       "      <td>ingratitude</td>\n",
       "      <td>1</td>\n",
       "    </tr>\n",
       "    <tr>\n",
       "      <th>3067</th>\n",
       "      <td>inherit</td>\n",
       "      <td>1</td>\n",
       "    </tr>\n",
       "    <tr>\n",
       "      <th>3068</th>\n",
       "      <td>inherited</td>\n",
       "      <td>1</td>\n",
       "    </tr>\n",
       "    <tr>\n",
       "      <th>3070</th>\n",
       "      <td>inhumanity</td>\n",
       "      <td>1</td>\n",
       "    </tr>\n",
       "    <tr>\n",
       "      <th>6386</th>\n",
       "      <td>youths</td>\n",
       "      <td>1</td>\n",
       "    </tr>\n",
       "  </tbody>\n",
       "</table>\n",
       "<p>6387 rows × 2 columns</p>\n",
       "</div>"
      ],
      "text/plain": [
       "            words  count\n",
       "3723           mr    785\n",
       "1913    elizabeth    634\n",
       "1289        could    527\n",
       "6353        would    470\n",
       "1380        darcy    418\n",
       "...           ...    ...\n",
       "3065  ingratitude      1\n",
       "3067      inherit      1\n",
       "3068    inherited      1\n",
       "3070   inhumanity      1\n",
       "6386       youths      1\n",
       "\n",
       "[6387 rows x 2 columns]"
      ]
     },
     "execution_count": 24,
     "metadata": {},
     "output_type": "execute_result"
    }
   ],
   "source": [
    "count_by_word = np.unique(words, return_counts=True)\n",
    "words_table = pd.DataFrame({'words': count_by_word[0], 'count': count_by_word[1]})\n",
    "words_table.sort_values('count', ascending=False)"
   ]
  }
 ],
 "metadata": {
  "kernelspec": {
   "display_name": "Python 3 (ipykernel)",
   "language": "python",
   "name": "python3"
  },
  "language_info": {
   "codemirror_mode": {
    "name": "ipython",
    "version": 3
   },
   "file_extension": ".py",
   "mimetype": "text/x-python",
   "name": "python",
   "nbconvert_exporter": "python",
   "pygments_lexer": "ipython3",
   "version": "3.9.12"
  }
 },
 "nbformat": 4,
 "nbformat_minor": 5
}
