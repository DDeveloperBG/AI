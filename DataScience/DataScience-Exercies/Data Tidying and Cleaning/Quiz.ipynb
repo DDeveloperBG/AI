{
 "cells": [
  {
   "cell_type": "code",
   "execution_count": 1,
   "id": "7f1bb12c-6126-4b7a-b677-4013390ddeb9",
   "metadata": {},
   "outputs": [],
   "source": [
    "import pandas as pd"
   ]
  },
  {
   "cell_type": "markdown",
   "id": "788442d4-14f8-440c-ab98-1668b1805272",
   "metadata": {},
   "source": [
    "### Task Null Values\n",
    "- Which column has the most missing values?"
   ]
  },
  {
   "cell_type": "code",
   "execution_count": 2,
   "id": "2aad5640-a8a1-4dd5-aba4-69f67d7a2df6",
   "metadata": {},
   "outputs": [
    {
     "name": "stdout",
     "output_type": "stream",
     "text": [
      "body\n"
     ]
    }
   ],
   "source": [
    "titanic_data_link = 'https://raw.githubusercontent.com/Geoyi/Cleaning-Titanic-Data/master/titanic_original.csv'\n",
    "titanic_data = pd.read_csv(titanic_data_link)\n",
    "\n",
    "max_val = 0\n",
    "max_name = ''\n",
    "for column in titanic_data.columns:\n",
    "    nulls_count = titanic_data[column].isnull().value_counts()[True]\n",
    "    if nulls_count > max_val:\n",
    "        max_val = nulls_count\n",
    "        max_name = column\n",
    "        \n",
    "print(max_name)"
   ]
  },
  {
   "cell_type": "markdown",
   "id": "a750038b-6955-48cb-96be-72a7c57e2a87",
   "metadata": {},
   "source": [
    "### Task Observations and Features"
   ]
  },
  {
   "cell_type": "code",
   "execution_count": 3,
   "id": "81d61faf-78e0-4801-943e-2ce624652e9a",
   "metadata": {},
   "outputs": [],
   "source": [
    "iris_data_link = 'https://archive.ics.uci.edu/ml/machine-learning-databases/iris/iris.data'\n",
    "iris_data_columns = [\n",
    "        'sepal_length_cm',\n",
    "        'sepal_width_cm',\n",
    "        'petal_length_cm',\n",
    "        'petal_width_cm',\n",
    "        'class',\n",
    "]\n",
    "\n",
    "iris_data = pd.read_csv(iris_data_link, header=None)\n",
    "iris_data.columns = iris_data_columns"
   ]
  },
  {
   "cell_type": "markdown",
   "id": "f50f1a49-1257-4fa7-a70b-df1579856d43",
   "metadata": {},
   "source": [
    "- How many observations are there?"
   ]
  },
  {
   "cell_type": "code",
   "execution_count": 4,
   "id": "218b7c40-7230-45ae-afd2-0b3b2ba25845",
   "metadata": {},
   "outputs": [
    {
     "data": {
      "text/plain": [
       "150"
      ]
     },
     "execution_count": 4,
     "metadata": {},
     "output_type": "execute_result"
    }
   ],
   "source": [
    "iris_data.shape[0]"
   ]
  },
  {
   "cell_type": "markdown",
   "id": "7f0ecb07-8892-4f27-ac91-f1a2f972e699",
   "metadata": {},
   "source": [
    "- How many features are there?"
   ]
  },
  {
   "cell_type": "code",
   "execution_count": 5,
   "id": "9fc14638-a752-4da7-8355-fa227e633198",
   "metadata": {},
   "outputs": [
    {
     "data": {
      "text/plain": [
       "5"
      ]
     },
     "execution_count": 5,
     "metadata": {},
     "output_type": "execute_result"
    }
   ],
   "source": [
    "iris_data.shape[1]"
   ]
  },
  {
   "cell_type": "markdown",
   "id": "52bdc03b-7e18-4468-a65d-95ea47c4b038",
   "metadata": {},
   "source": [
    "- The last column contains the different species of iris plant. How many species are there?"
   ]
  },
  {
   "cell_type": "code",
   "execution_count": 6,
   "id": "69491a07-391b-4901-8590-277fdeeb423e",
   "metadata": {},
   "outputs": [
    {
     "data": {
      "text/plain": [
       "3"
      ]
     },
     "execution_count": 6,
     "metadata": {},
     "output_type": "execute_result"
    }
   ],
   "source": [
    "iris_data['class'].nunique()"
   ]
  },
  {
   "cell_type": "markdown",
   "id": "b63d9764-724a-477c-97bc-82d44dccb4f5",
   "metadata": {},
   "source": [
    "- Take all Iris flowers whose sepal length is between 4.5 and 10 (inclusive). What is the average petal length of these flowers (in cm)? Round your answer to two decimal places. Write your answer with a decimal point, for example \"4.5\"."
   ]
  },
  {
   "cell_type": "code",
   "execution_count": 7,
   "id": "2e51c5d0-a51a-4780-b3db-ffab01445714",
   "metadata": {},
   "outputs": [
    {
     "data": {
      "text/plain": [
       "3.83"
      ]
     },
     "execution_count": 7,
     "metadata": {},
     "output_type": "execute_result"
    }
   ],
   "source": [
    "sepal_lengths = iris_data['sepal_length_cm']\n",
    "selected_flowers = iris_data[(sepal_lengths >= 4.5) & (sepal_lengths <= 10)]\n",
    "round(selected_flowers['petal_length_cm'].mean(), 2)"
   ]
  },
  {
   "cell_type": "markdown",
   "id": "ad403e8d-a6a6-4326-b9ae-a9e8264c4d8d",
   "metadata": {},
   "source": [
    "### Wine Quality"
   ]
  },
  {
   "cell_type": "code",
   "execution_count": 8,
   "id": "11a6a6d2-d10d-4fc8-a0f1-14a4a0b9ca54",
   "metadata": {},
   "outputs": [],
   "source": [
    "red_wine_data_link = 'https://archive.ics.uci.edu/ml/machine-learning-databases/wine-quality/winequality-red.csv'\n",
    "white_wine_data_link = 'https://archive.ics.uci.edu/ml/machine-learning-databases/wine-quality/winequality-white.csv'\n",
    "\n",
    "red_wine_data = pd.read_csv(red_wine_data_link, sep=';')\n",
    "white_wine_data = pd.read_csv(white_wine_data_link, sep=';')"
   ]
  },
  {
   "cell_type": "markdown",
   "id": "78c83774-2bba-483d-bfb6-e56cb52799fc",
   "metadata": {},
   "source": [
    "- Which kinds of wine seem to be preferred (i.e. have greater average quality)? Write \"red\" or \"white\" in the textbox."
   ]
  },
  {
   "cell_type": "code",
   "execution_count": 9,
   "id": "99618070-b763-4895-828d-a6d5ac9e1b68",
   "metadata": {},
   "outputs": [
    {
     "name": "stdout",
     "output_type": "stream",
     "text": [
      "white\n"
     ]
    }
   ],
   "source": [
    "if red_wine_data['quality'].mean() > white_wine_data['quality'].mean():\n",
    "    print('red')\n",
    "else:\n",
    "    print('white')"
   ]
  },
  {
   "cell_type": "markdown",
   "id": "005c1959-7218-40e7-9e49-0617d421fb83",
   "metadata": {},
   "source": [
    "- Does higher alcohol content mean better quality? We can't say directly, but we might explore the data. What is the correlation of alcohol content to quality for red wines? Round your answer to two decimal places."
   ]
  },
  {
   "cell_type": "code",
   "execution_count": 10,
   "id": "6dbd40a7-13e1-431a-9982-a2aee72c94db",
   "metadata": {},
   "outputs": [],
   "source": [
    "def get_wine_alcohol_content_corr_to_quality(dataframe):\n",
    "    return round(dataframe['alcohol'].corr(dataframe['quality']), 2) "
   ]
  },
  {
   "cell_type": "code",
   "execution_count": 11,
   "id": "badaf785-f341-4495-a345-761e8ad7db83",
   "metadata": {},
   "outputs": [
    {
     "data": {
      "text/plain": [
       "0.48"
      ]
     },
     "execution_count": 11,
     "metadata": {},
     "output_type": "execute_result"
    }
   ],
   "source": [
    "get_wine_alcohol_content_corr_to_quality(red_wine_data)"
   ]
  },
  {
   "cell_type": "markdown",
   "id": "32ce2cc8-80be-47ce-9ff5-0e93f9a3f00f",
   "metadata": {},
   "source": [
    " - What is the correlation of alcohol content to quality for white wines? Round your answer to two decimal places."
   ]
  },
  {
   "cell_type": "code",
   "execution_count": 12,
   "id": "1b2c7062-b028-49e9-b540-a4b04c352155",
   "metadata": {},
   "outputs": [
    {
     "data": {
      "text/plain": [
       "0.44"
      ]
     },
     "execution_count": 12,
     "metadata": {},
     "output_type": "execute_result"
    }
   ],
   "source": [
    "get_wine_alcohol_content_corr_to_quality(white_wine_data)"
   ]
  }
 ],
 "metadata": {
  "kernelspec": {
   "display_name": "Python 3 (ipykernel)",
   "language": "python",
   "name": "python3"
  },
  "language_info": {
   "codemirror_mode": {
    "name": "ipython",
    "version": 3
   },
   "file_extension": ".py",
   "mimetype": "text/x-python",
   "name": "python",
   "nbconvert_exporter": "python",
   "pygments_lexer": "ipython3",
   "version": "3.9.12"
  }
 },
 "nbformat": 4,
 "nbformat_minor": 5
}
