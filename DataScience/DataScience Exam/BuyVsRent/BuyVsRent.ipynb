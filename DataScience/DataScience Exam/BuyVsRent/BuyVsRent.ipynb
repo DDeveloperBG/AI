{
 "cells": [
  {
   "cell_type": "code",
   "execution_count": 1,
   "id": "ee059755-fc77-4456-b3f4-3177fab88144",
   "metadata": {},
   "outputs": [],
   "source": [
    "%matplotlib inline"
   ]
  },
  {
   "cell_type": "code",
   "execution_count": 2,
   "id": "b25853e9-daff-467a-86ed-a92869fff93d",
   "metadata": {},
   "outputs": [],
   "source": [
    "# Imports\n",
    "import pandas as pd\n",
    "import numpy as np\n",
    "import matplotlib.pyplot as plt"
   ]
  },
  {
   "cell_type": "markdown",
   "id": "540b74a3-154c-4d33-a7e5-f600278827c2",
   "metadata": {},
   "source": [
    "# Buy or Rent a house?\n",
    "The article was developed by **Daniel Yordanov** <br>\n",
    "Softuni Username: **dakataebg**"
   ]
  },
  {
   "cell_type": "markdown",
   "id": "6fd090e1-f775-4e36-9358-9adcd3a09494",
   "metadata": {},
   "source": [
    "### Contents:\n",
    "\n",
    "1. [Introduction](#introduction)\n",
    "2. [Reading rents dataset](#reading-rents-dataset)\n",
    "    1. [Clean rents data](#clean-rents-data)\n",
    "3. [Reading apartments dataset](#reading-apartments-dataset)\n",
    "    1. [Clean apartments data](#clean-apartments-data)\n",
    "4. [Display distribution](#display-distribution)\n",
    "5. [Unite both tables](#unite-both-tables)\n",
    "    1. [Take only mutual](#take-only-mutual)\n",
    "6. [Analysis](#analysis)\n",
    "7. [Conclusion](#conclusion)\n"
   ]
  },
  {
   "cell_type": "markdown",
   "id": "1d2823af-13a5-4d84-bf39-5bfe04f0099f",
   "metadata": {},
   "source": [
    "## Introduction <a id=\"introduction\" />\n",
    "Probably an appropriate question for every person who wants to live in a new city for a long time. <br> \n",
    "Personally, I was asking myself this question when deciding where to live when I go to Sofia to learn at university. <br>\n",
    "Ok, so how will we decide which one is financially better?"
   ]
  },
  {
   "cell_type": "markdown",
   "id": "34a982c2-4c28-4506-b644-c8a632db38bb",
   "metadata": {},
   "source": [
    "We will analyse the prices of apartments and compare their rental value in Sofia. <br>\n",
    "We are going to use two datasets scraped from \"imot.bg\" on 21.07.2022."
   ]
  },
  {
   "cell_type": "markdown",
   "id": "cd23da76-7ced-4b2f-9c8a-1cf58095cb3f",
   "metadata": {
    "tags": []
   },
   "source": [
    "## Reading rents dataset <a id=\"reading-rents-dataset\" />"
   ]
  },
  {
   "cell_type": "code",
   "execution_count": 3,
   "id": "6164316f-e1b3-4a88-a90d-9fa0eec04efa",
   "metadata": {},
   "outputs": [
    {
     "data": {
      "text/html": [
       "<div>\n",
       "<style scoped>\n",
       "    .dataframe tbody tr th:only-of-type {\n",
       "        vertical-align: middle;\n",
       "    }\n",
       "\n",
       "    .dataframe tbody tr th {\n",
       "        vertical-align: top;\n",
       "    }\n",
       "\n",
       "    .dataframe thead th {\n",
       "        text-align: right;\n",
       "    }\n",
       "</style>\n",
       "<table border=\"1\" class=\"dataframe\">\n",
       "  <thead>\n",
       "    <tr style=\"text-align: right;\">\n",
       "      <th></th>\n",
       "      <th>url</th>\n",
       "      <th>floor</th>\n",
       "      <th>district</th>\n",
       "      <th>type</th>\n",
       "      <th>price</th>\n",
       "    </tr>\n",
       "  </thead>\n",
       "  <tbody>\n",
       "    <tr>\n",
       "      <th>0</th>\n",
       "      <td>https://www.imot.bg/pcgi/imot.cgi?act=5&amp;adv=2b...</td>\n",
       "      <td>8</td>\n",
       "      <td>Борово</td>\n",
       "      <td>1-СТАЕН</td>\n",
       "      <td>520 лв.</td>\n",
       "    </tr>\n",
       "    <tr>\n",
       "      <th>1</th>\n",
       "      <td>https://www.imot.bg/pcgi/imot.cgi?act=5&amp;adv=2b...</td>\n",
       "      <td>12</td>\n",
       "      <td>Връбница 2</td>\n",
       "      <td>1-СТАЕН</td>\n",
       "      <td>250 EUR</td>\n",
       "    </tr>\n",
       "    <tr>\n",
       "      <th>2</th>\n",
       "      <td>https://www.imot.bg/pcgi/imot.cgi?act=5&amp;adv=2b...</td>\n",
       "      <td>2</td>\n",
       "      <td>Лозенец</td>\n",
       "      <td>1-СТАЕН</td>\n",
       "      <td>210 EUR</td>\n",
       "    </tr>\n",
       "    <tr>\n",
       "      <th>3</th>\n",
       "      <td>https://www.imot.bg/pcgi/imot.cgi?act=5&amp;adv=2b...</td>\n",
       "      <td>4</td>\n",
       "      <td>Лозенец, ул. Милин камък</td>\n",
       "      <td>1-СТАЕН</td>\n",
       "      <td>260 EUR</td>\n",
       "    </tr>\n",
       "    <tr>\n",
       "      <th>4</th>\n",
       "      <td>https://www.imot.bg/pcgi/imot.cgi?act=5&amp;adv=2b...</td>\n",
       "      <td>5</td>\n",
       "      <td>Люлин 2</td>\n",
       "      <td>1-СТАЕН</td>\n",
       "      <td>570 лв.</td>\n",
       "    </tr>\n",
       "  </tbody>\n",
       "</table>\n",
       "</div>"
      ],
      "text/plain": [
       "                                                 url  floor  \\\n",
       "0  https://www.imot.bg/pcgi/imot.cgi?act=5&adv=2b...      8   \n",
       "1  https://www.imot.bg/pcgi/imot.cgi?act=5&adv=2b...     12   \n",
       "2  https://www.imot.bg/pcgi/imot.cgi?act=5&adv=2b...      2   \n",
       "3  https://www.imot.bg/pcgi/imot.cgi?act=5&adv=2b...      4   \n",
       "4  https://www.imot.bg/pcgi/imot.cgi?act=5&adv=2b...      5   \n",
       "\n",
       "                   district     type     price  \n",
       "0                    Борово  1-СТАЕН   520 лв.  \n",
       "1                Връбница 2  1-СТАЕН   250 EUR  \n",
       "2                   Лозенец  1-СТАЕН   210 EUR  \n",
       "3  Лозенец, ул. Милин камък  1-СТАЕН   260 EUR  \n",
       "4                   Люлин 2  1-СТАЕН   570 лв.  "
      ]
     },
     "execution_count": 3,
     "metadata": {},
     "output_type": "execute_result"
    }
   ],
   "source": [
    "rents_data = pd.read_csv(\"data/rents-2022-07-21.csv\")\n",
    "rents_data.columns = [\"url\", \"floor\", \"district\", \"type\", \"price\"]\n",
    "rents_data.head()"
   ]
  },
  {
   "cell_type": "markdown",
   "id": "d4818e1c-d646-472f-b9bd-4a456df21bce",
   "metadata": {},
   "source": [
    "## Clean rents data <a id=\"clean-rents-data\" />"
   ]
  },
  {
   "cell_type": "markdown",
   "id": "463bfd66-10b5-4239-83f2-be141acf2c0f",
   "metadata": {},
   "source": [
    "#### Remove URL attribute\n",
    "We **don't need rents URL**, so we will remove it."
   ]
  },
  {
   "cell_type": "code",
   "execution_count": 4,
   "id": "75fef35a-f3a8-4063-bf09-919af0e73558",
   "metadata": {},
   "outputs": [
    {
     "data": {
      "text/html": [
       "<div>\n",
       "<style scoped>\n",
       "    .dataframe tbody tr th:only-of-type {\n",
       "        vertical-align: middle;\n",
       "    }\n",
       "\n",
       "    .dataframe tbody tr th {\n",
       "        vertical-align: top;\n",
       "    }\n",
       "\n",
       "    .dataframe thead th {\n",
       "        text-align: right;\n",
       "    }\n",
       "</style>\n",
       "<table border=\"1\" class=\"dataframe\">\n",
       "  <thead>\n",
       "    <tr style=\"text-align: right;\">\n",
       "      <th></th>\n",
       "      <th>floor</th>\n",
       "      <th>district</th>\n",
       "      <th>type</th>\n",
       "      <th>price</th>\n",
       "    </tr>\n",
       "  </thead>\n",
       "  <tbody>\n",
       "    <tr>\n",
       "      <th>0</th>\n",
       "      <td>8</td>\n",
       "      <td>Борово</td>\n",
       "      <td>1-СТАЕН</td>\n",
       "      <td>520 лв.</td>\n",
       "    </tr>\n",
       "    <tr>\n",
       "      <th>1</th>\n",
       "      <td>12</td>\n",
       "      <td>Връбница 2</td>\n",
       "      <td>1-СТАЕН</td>\n",
       "      <td>250 EUR</td>\n",
       "    </tr>\n",
       "    <tr>\n",
       "      <th>2</th>\n",
       "      <td>2</td>\n",
       "      <td>Лозенец</td>\n",
       "      <td>1-СТАЕН</td>\n",
       "      <td>210 EUR</td>\n",
       "    </tr>\n",
       "    <tr>\n",
       "      <th>3</th>\n",
       "      <td>4</td>\n",
       "      <td>Лозенец, ул. Милин камък</td>\n",
       "      <td>1-СТАЕН</td>\n",
       "      <td>260 EUR</td>\n",
       "    </tr>\n",
       "    <tr>\n",
       "      <th>4</th>\n",
       "      <td>5</td>\n",
       "      <td>Люлин 2</td>\n",
       "      <td>1-СТАЕН</td>\n",
       "      <td>570 лв.</td>\n",
       "    </tr>\n",
       "  </tbody>\n",
       "</table>\n",
       "</div>"
      ],
      "text/plain": [
       "   floor                  district     type     price\n",
       "0      8                    Борово  1-СТАЕН   520 лв.\n",
       "1     12                Връбница 2  1-СТАЕН   250 EUR\n",
       "2      2                   Лозенец  1-СТАЕН   210 EUR\n",
       "3      4  Лозенец, ул. Милин камък  1-СТАЕН   260 EUR\n",
       "4      5                   Люлин 2  1-СТАЕН   570 лв."
      ]
     },
     "execution_count": 4,
     "metadata": {},
     "output_type": "execute_result"
    }
   ],
   "source": [
    "rents_data = rents_data.drop(columns=[\"url\"])\n",
    "rents_data.head()"
   ]
  },
  {
   "cell_type": "markdown",
   "id": "82e333f9-fefa-4bb7-963b-e16caf3ec612",
   "metadata": {},
   "source": [
    "#### Clean price"
   ]
  },
  {
   "cell_type": "markdown",
   "id": "a9dab177-b65f-42fa-a61e-733a453a3e44",
   "metadata": {},
   "source": [
    "First, we will **remove spaces**."
   ]
  },
  {
   "cell_type": "code",
   "execution_count": 5,
   "id": "5f102a05-5ddb-40d8-b1c8-c2c50bd9e8f5",
   "metadata": {},
   "outputs": [
    {
     "data": {
      "text/html": [
       "<div>\n",
       "<style scoped>\n",
       "    .dataframe tbody tr th:only-of-type {\n",
       "        vertical-align: middle;\n",
       "    }\n",
       "\n",
       "    .dataframe tbody tr th {\n",
       "        vertical-align: top;\n",
       "    }\n",
       "\n",
       "    .dataframe thead th {\n",
       "        text-align: right;\n",
       "    }\n",
       "</style>\n",
       "<table border=\"1\" class=\"dataframe\">\n",
       "  <thead>\n",
       "    <tr style=\"text-align: right;\">\n",
       "      <th></th>\n",
       "      <th>floor</th>\n",
       "      <th>district</th>\n",
       "      <th>type</th>\n",
       "      <th>price</th>\n",
       "    </tr>\n",
       "  </thead>\n",
       "  <tbody>\n",
       "    <tr>\n",
       "      <th>0</th>\n",
       "      <td>8</td>\n",
       "      <td>Борово</td>\n",
       "      <td>1-СТАЕН</td>\n",
       "      <td>520лв.</td>\n",
       "    </tr>\n",
       "    <tr>\n",
       "      <th>1</th>\n",
       "      <td>12</td>\n",
       "      <td>Връбница 2</td>\n",
       "      <td>1-СТАЕН</td>\n",
       "      <td>250EUR</td>\n",
       "    </tr>\n",
       "    <tr>\n",
       "      <th>2</th>\n",
       "      <td>2</td>\n",
       "      <td>Лозенец</td>\n",
       "      <td>1-СТАЕН</td>\n",
       "      <td>210EUR</td>\n",
       "    </tr>\n",
       "    <tr>\n",
       "      <th>3</th>\n",
       "      <td>4</td>\n",
       "      <td>Лозенец, ул. Милин камък</td>\n",
       "      <td>1-СТАЕН</td>\n",
       "      <td>260EUR</td>\n",
       "    </tr>\n",
       "    <tr>\n",
       "      <th>4</th>\n",
       "      <td>5</td>\n",
       "      <td>Люлин 2</td>\n",
       "      <td>1-СТАЕН</td>\n",
       "      <td>570лв.</td>\n",
       "    </tr>\n",
       "  </tbody>\n",
       "</table>\n",
       "</div>"
      ],
      "text/plain": [
       "   floor                  district     type   price\n",
       "0      8                    Борово  1-СТАЕН  520лв.\n",
       "1     12                Връбница 2  1-СТАЕН  250EUR\n",
       "2      2                   Лозенец  1-СТАЕН  210EUR\n",
       "3      4  Лозенец, ул. Милин камък  1-СТАЕН  260EUR\n",
       "4      5                   Люлин 2  1-СТАЕН  570лв."
      ]
     },
     "execution_count": 5,
     "metadata": {},
     "output_type": "execute_result"
    }
   ],
   "source": [
    "rents_data.price = rents_data.price.str.replace(\" \", \"\", regex=False)\n",
    "rents_data.head()"
   ]
  },
  {
   "cell_type": "markdown",
   "id": "58d89cfa-e445-4611-b8db-37f607b94022",
   "metadata": {},
   "source": [
    "We can see that price is in lev or EUR. We want it only in **EUR**."
   ]
  },
  {
   "cell_type": "code",
   "execution_count": 6,
   "id": "e9b10b8f-a283-452d-b723-f47fa8895aa1",
   "metadata": {},
   "outputs": [
    {
     "data": {
      "text/html": [
       "<div>\n",
       "<style scoped>\n",
       "    .dataframe tbody tr th:only-of-type {\n",
       "        vertical-align: middle;\n",
       "    }\n",
       "\n",
       "    .dataframe tbody tr th {\n",
       "        vertical-align: top;\n",
       "    }\n",
       "\n",
       "    .dataframe thead th {\n",
       "        text-align: right;\n",
       "    }\n",
       "</style>\n",
       "<table border=\"1\" class=\"dataframe\">\n",
       "  <thead>\n",
       "    <tr style=\"text-align: right;\">\n",
       "      <th></th>\n",
       "      <th>floor</th>\n",
       "      <th>district</th>\n",
       "      <th>type</th>\n",
       "      <th>price</th>\n",
       "    </tr>\n",
       "  </thead>\n",
       "  <tbody>\n",
       "    <tr>\n",
       "      <th>0</th>\n",
       "      <td>8</td>\n",
       "      <td>Борово</td>\n",
       "      <td>1-СТАЕН</td>\n",
       "      <td>265.2</td>\n",
       "    </tr>\n",
       "    <tr>\n",
       "      <th>1</th>\n",
       "      <td>12</td>\n",
       "      <td>Връбница 2</td>\n",
       "      <td>1-СТАЕН</td>\n",
       "      <td>250EUR</td>\n",
       "    </tr>\n",
       "    <tr>\n",
       "      <th>2</th>\n",
       "      <td>2</td>\n",
       "      <td>Лозенец</td>\n",
       "      <td>1-СТАЕН</td>\n",
       "      <td>210EUR</td>\n",
       "    </tr>\n",
       "    <tr>\n",
       "      <th>3</th>\n",
       "      <td>4</td>\n",
       "      <td>Лозенец, ул. Милин камък</td>\n",
       "      <td>1-СТАЕН</td>\n",
       "      <td>260EUR</td>\n",
       "    </tr>\n",
       "    <tr>\n",
       "      <th>4</th>\n",
       "      <td>5</td>\n",
       "      <td>Люлин 2</td>\n",
       "      <td>1-СТАЕН</td>\n",
       "      <td>290.7</td>\n",
       "    </tr>\n",
       "  </tbody>\n",
       "</table>\n",
       "</div>"
      ],
      "text/plain": [
       "   floor                  district     type   price\n",
       "0      8                    Борово  1-СТАЕН   265.2\n",
       "1     12                Връбница 2  1-СТАЕН  250EUR\n",
       "2      2                   Лозенец  1-СТАЕН  210EUR\n",
       "3      4  Лозенец, ул. Милин камък  1-СТАЕН  260EUR\n",
       "4      5                   Люлин 2  1-СТАЕН   290.7"
      ]
     },
     "execution_count": 6,
     "metadata": {},
     "output_type": "execute_result"
    }
   ],
   "source": [
    "lv_text = \"лв.\"\n",
    "lv_to_eur_course = 0.51\n",
    "rents_in_lv = rents_data[rents_data.price.str.contains(lv_text)].price\n",
    "rents_in_lv = rents_in_lv.str.replace(lv_text, \"\", regex=False).astype(float) * lv_to_eur_course\n",
    "                                      \n",
    "rents_data.price.update(rents_in_lv)\n",
    "rents_data.head()"
   ]
  },
  {
   "cell_type": "markdown",
   "id": "8d062870-83b3-4929-8cfb-a134341b57b7",
   "metadata": {},
   "source": [
    "Now that all prices are in EUR we have to **remove the EUR text** and **parse them** to float."
   ]
  },
  {
   "cell_type": "code",
   "execution_count": 7,
   "id": "a915b7d0-c79e-4dc7-93e9-3ae4d27d7e80",
   "metadata": {},
   "outputs": [
    {
     "data": {
      "text/html": [
       "<div>\n",
       "<style scoped>\n",
       "    .dataframe tbody tr th:only-of-type {\n",
       "        vertical-align: middle;\n",
       "    }\n",
       "\n",
       "    .dataframe tbody tr th {\n",
       "        vertical-align: top;\n",
       "    }\n",
       "\n",
       "    .dataframe thead th {\n",
       "        text-align: right;\n",
       "    }\n",
       "</style>\n",
       "<table border=\"1\" class=\"dataframe\">\n",
       "  <thead>\n",
       "    <tr style=\"text-align: right;\">\n",
       "      <th></th>\n",
       "      <th>floor</th>\n",
       "      <th>district</th>\n",
       "      <th>type</th>\n",
       "      <th>price</th>\n",
       "    </tr>\n",
       "  </thead>\n",
       "  <tbody>\n",
       "    <tr>\n",
       "      <th>0</th>\n",
       "      <td>8</td>\n",
       "      <td>Борово</td>\n",
       "      <td>1-СТАЕН</td>\n",
       "      <td>265.2</td>\n",
       "    </tr>\n",
       "    <tr>\n",
       "      <th>1</th>\n",
       "      <td>12</td>\n",
       "      <td>Връбница 2</td>\n",
       "      <td>1-СТАЕН</td>\n",
       "      <td>250.0</td>\n",
       "    </tr>\n",
       "    <tr>\n",
       "      <th>2</th>\n",
       "      <td>2</td>\n",
       "      <td>Лозенец</td>\n",
       "      <td>1-СТАЕН</td>\n",
       "      <td>210.0</td>\n",
       "    </tr>\n",
       "    <tr>\n",
       "      <th>3</th>\n",
       "      <td>4</td>\n",
       "      <td>Лозенец, ул. Милин камък</td>\n",
       "      <td>1-СТАЕН</td>\n",
       "      <td>260.0</td>\n",
       "    </tr>\n",
       "    <tr>\n",
       "      <th>4</th>\n",
       "      <td>5</td>\n",
       "      <td>Люлин 2</td>\n",
       "      <td>1-СТАЕН</td>\n",
       "      <td>290.7</td>\n",
       "    </tr>\n",
       "  </tbody>\n",
       "</table>\n",
       "</div>"
      ],
      "text/plain": [
       "   floor                  district     type  price\n",
       "0      8                    Борово  1-СТАЕН  265.2\n",
       "1     12                Връбница 2  1-СТАЕН  250.0\n",
       "2      2                   Лозенец  1-СТАЕН  210.0\n",
       "3      4  Лозенец, ул. Милин камък  1-СТАЕН  260.0\n",
       "4      5                   Люлин 2  1-СТАЕН  290.7"
      ]
     },
     "execution_count": 7,
     "metadata": {},
     "output_type": "execute_result"
    }
   ],
   "source": [
    "eur_text = \"EUR\"\n",
    "fixed_prices = rents_data.price.str.replace(eur_text, \"\", regex=False).astype(float)\n",
    "\n",
    "rents_data.price.update(fixed_prices)\n",
    "rents_data.head()"
   ]
  },
  {
   "cell_type": "markdown",
   "id": "8d4fa13d-ed71-44b9-9889-b3729c6ae1a2",
   "metadata": {},
   "source": [
    "#### Remove streets from districts\n",
    "Some districts contain streets, but we don't need them."
   ]
  },
  {
   "cell_type": "code",
   "execution_count": 8,
   "id": "b564e359-fde4-4640-8d3b-2f8cc4201454",
   "metadata": {},
   "outputs": [
    {
     "data": {
      "text/html": [
       "<div>\n",
       "<style scoped>\n",
       "    .dataframe tbody tr th:only-of-type {\n",
       "        vertical-align: middle;\n",
       "    }\n",
       "\n",
       "    .dataframe tbody tr th {\n",
       "        vertical-align: top;\n",
       "    }\n",
       "\n",
       "    .dataframe thead th {\n",
       "        text-align: right;\n",
       "    }\n",
       "</style>\n",
       "<table border=\"1\" class=\"dataframe\">\n",
       "  <thead>\n",
       "    <tr style=\"text-align: right;\">\n",
       "      <th></th>\n",
       "      <th>floor</th>\n",
       "      <th>district</th>\n",
       "      <th>type</th>\n",
       "      <th>price</th>\n",
       "    </tr>\n",
       "  </thead>\n",
       "  <tbody>\n",
       "    <tr>\n",
       "      <th>0</th>\n",
       "      <td>8</td>\n",
       "      <td>Борово</td>\n",
       "      <td>1-СТАЕН</td>\n",
       "      <td>265.2</td>\n",
       "    </tr>\n",
       "    <tr>\n",
       "      <th>1</th>\n",
       "      <td>12</td>\n",
       "      <td>Връбница 2</td>\n",
       "      <td>1-СТАЕН</td>\n",
       "      <td>250.0</td>\n",
       "    </tr>\n",
       "    <tr>\n",
       "      <th>2</th>\n",
       "      <td>2</td>\n",
       "      <td>Лозенец</td>\n",
       "      <td>1-СТАЕН</td>\n",
       "      <td>210.0</td>\n",
       "    </tr>\n",
       "    <tr>\n",
       "      <th>3</th>\n",
       "      <td>4</td>\n",
       "      <td>Лозенец</td>\n",
       "      <td>1-СТАЕН</td>\n",
       "      <td>260.0</td>\n",
       "    </tr>\n",
       "    <tr>\n",
       "      <th>4</th>\n",
       "      <td>5</td>\n",
       "      <td>Люлин 2</td>\n",
       "      <td>1-СТАЕН</td>\n",
       "      <td>290.7</td>\n",
       "    </tr>\n",
       "  </tbody>\n",
       "</table>\n",
       "</div>"
      ],
      "text/plain": [
       "   floor    district     type  price\n",
       "0      8      Борово  1-СТАЕН  265.2\n",
       "1     12  Връбница 2  1-СТАЕН  250.0\n",
       "2      2     Лозенец  1-СТАЕН  210.0\n",
       "3      4     Лозенец  1-СТАЕН  260.0\n",
       "4      5     Люлин 2  1-СТАЕН  290.7"
      ]
     },
     "execution_count": 8,
     "metadata": {},
     "output_type": "execute_result"
    }
   ],
   "source": [
    "street_regex = r\", .*\"\n",
    "fixed_districts = rents_data.district.replace(street_regex, \"\", regex=True)\n",
    "\n",
    "rents_data.district.update(fixed_districts)\n",
    "rents_data.head()"
   ]
  },
  {
   "cell_type": "markdown",
   "id": "8cde1cb4-cd5f-4976-a435-69c833b20277",
   "metadata": {
    "tags": []
   },
   "source": [
    "## Reading apartments dataset <a id=\"reading-apartments-dataset\" />"
   ]
  },
  {
   "cell_type": "code",
   "execution_count": 9,
   "id": "c9be7312-7043-4536-b3b3-29dca67b1c13",
   "metadata": {},
   "outputs": [
    {
     "data": {
      "text/html": [
       "<div>\n",
       "<style scoped>\n",
       "    .dataframe tbody tr th:only-of-type {\n",
       "        vertical-align: middle;\n",
       "    }\n",
       "\n",
       "    .dataframe tbody tr th {\n",
       "        vertical-align: top;\n",
       "    }\n",
       "\n",
       "    .dataframe thead th {\n",
       "        text-align: right;\n",
       "    }\n",
       "</style>\n",
       "<table border=\"1\" class=\"dataframe\">\n",
       "  <thead>\n",
       "    <tr style=\"text-align: right;\">\n",
       "      <th></th>\n",
       "      <th>url</th>\n",
       "      <th>floor</th>\n",
       "      <th>district</th>\n",
       "      <th>type</th>\n",
       "      <th>price</th>\n",
       "    </tr>\n",
       "  </thead>\n",
       "  <tbody>\n",
       "    <tr>\n",
       "      <th>0</th>\n",
       "      <td>https://www.imot.bg/pcgi/imot.cgi?act=5&amp;adv=1a...</td>\n",
       "      <td>4</td>\n",
       "      <td>Център</td>\n",
       "      <td>1-СТАЕН</td>\n",
       "      <td>138000</td>\n",
       "    </tr>\n",
       "    <tr>\n",
       "      <th>1</th>\n",
       "      <td>https://www.imot.bg/pcgi/imot.cgi?act=5&amp;adv=1b...</td>\n",
       "      <td>6</td>\n",
       "      <td>Банишора, ул. Шумен</td>\n",
       "      <td>2-СТАЕН</td>\n",
       "      <td>97300</td>\n",
       "    </tr>\n",
       "    <tr>\n",
       "      <th>2</th>\n",
       "      <td>https://www.imot.bg/pcgi/imot.cgi?act=5&amp;adv=1b...</td>\n",
       "      <td>3</td>\n",
       "      <td>Банишора</td>\n",
       "      <td>2-СТАЕН</td>\n",
       "      <td>110000</td>\n",
       "    </tr>\n",
       "    <tr>\n",
       "      <th>3</th>\n",
       "      <td>https://www.imot.bg/pcgi/imot.cgi?act=5&amp;adv=1b...</td>\n",
       "      <td>5</td>\n",
       "      <td>Банишора</td>\n",
       "      <td>2-СТАЕН</td>\n",
       "      <td>117990</td>\n",
       "    </tr>\n",
       "    <tr>\n",
       "      <th>4</th>\n",
       "      <td>https://www.imot.bg/pcgi/imot.cgi?act=5&amp;adv=1b...</td>\n",
       "      <td>3</td>\n",
       "      <td>Банишора</td>\n",
       "      <td>2-СТАЕН</td>\n",
       "      <td>132000</td>\n",
       "    </tr>\n",
       "  </tbody>\n",
       "</table>\n",
       "</div>"
      ],
      "text/plain": [
       "                                                 url  floor  \\\n",
       "0  https://www.imot.bg/pcgi/imot.cgi?act=5&adv=1a...      4   \n",
       "1  https://www.imot.bg/pcgi/imot.cgi?act=5&adv=1b...      6   \n",
       "2  https://www.imot.bg/pcgi/imot.cgi?act=5&adv=1b...      3   \n",
       "3  https://www.imot.bg/pcgi/imot.cgi?act=5&adv=1b...      5   \n",
       "4  https://www.imot.bg/pcgi/imot.cgi?act=5&adv=1b...      3   \n",
       "\n",
       "              district     type   price  \n",
       "0               Център  1-СТАЕН  138000  \n",
       "1  Банишора, ул. Шумен  2-СТАЕН   97300  \n",
       "2             Банишора  2-СТАЕН  110000  \n",
       "3             Банишора  2-СТАЕН  117990  \n",
       "4             Банишора  2-СТАЕН  132000  "
      ]
     },
     "execution_count": 9,
     "metadata": {},
     "output_type": "execute_result"
    }
   ],
   "source": [
    "apartments_data = pd.read_csv(\"data/apartments-2022-07-21.csv\")\n",
    "apartments_data.columns = [\"url\", \"floor\", \"district\", \"type\", \"price\"]\n",
    "apartments_data.head()"
   ]
  },
  {
   "cell_type": "markdown",
   "id": "05575234-db20-4151-9876-25fda247ebb9",
   "metadata": {},
   "source": [
    "## Clean apartments data <a id=\"clean-apartments-data\" />"
   ]
  },
  {
   "cell_type": "markdown",
   "id": "21538882-2ca4-4546-882c-b1ef56564897",
   "metadata": {},
   "source": [
    "#### Remove URL attribute\n",
    "We **don't need apartments URL**, so we will remove it."
   ]
  },
  {
   "cell_type": "code",
   "execution_count": 10,
   "id": "c3a20bcd-0339-4035-b746-a6e3b2676e1f",
   "metadata": {},
   "outputs": [
    {
     "data": {
      "text/html": [
       "<div>\n",
       "<style scoped>\n",
       "    .dataframe tbody tr th:only-of-type {\n",
       "        vertical-align: middle;\n",
       "    }\n",
       "\n",
       "    .dataframe tbody tr th {\n",
       "        vertical-align: top;\n",
       "    }\n",
       "\n",
       "    .dataframe thead th {\n",
       "        text-align: right;\n",
       "    }\n",
       "</style>\n",
       "<table border=\"1\" class=\"dataframe\">\n",
       "  <thead>\n",
       "    <tr style=\"text-align: right;\">\n",
       "      <th></th>\n",
       "      <th>floor</th>\n",
       "      <th>district</th>\n",
       "      <th>type</th>\n",
       "      <th>price</th>\n",
       "    </tr>\n",
       "  </thead>\n",
       "  <tbody>\n",
       "    <tr>\n",
       "      <th>0</th>\n",
       "      <td>4</td>\n",
       "      <td>Център</td>\n",
       "      <td>1-СТАЕН</td>\n",
       "      <td>138000</td>\n",
       "    </tr>\n",
       "    <tr>\n",
       "      <th>1</th>\n",
       "      <td>6</td>\n",
       "      <td>Банишора, ул. Шумен</td>\n",
       "      <td>2-СТАЕН</td>\n",
       "      <td>97300</td>\n",
       "    </tr>\n",
       "    <tr>\n",
       "      <th>2</th>\n",
       "      <td>3</td>\n",
       "      <td>Банишора</td>\n",
       "      <td>2-СТАЕН</td>\n",
       "      <td>110000</td>\n",
       "    </tr>\n",
       "    <tr>\n",
       "      <th>3</th>\n",
       "      <td>5</td>\n",
       "      <td>Банишора</td>\n",
       "      <td>2-СТАЕН</td>\n",
       "      <td>117990</td>\n",
       "    </tr>\n",
       "    <tr>\n",
       "      <th>4</th>\n",
       "      <td>3</td>\n",
       "      <td>Банишора</td>\n",
       "      <td>2-СТАЕН</td>\n",
       "      <td>132000</td>\n",
       "    </tr>\n",
       "  </tbody>\n",
       "</table>\n",
       "</div>"
      ],
      "text/plain": [
       "   floor             district     type   price\n",
       "0      4               Център  1-СТАЕН  138000\n",
       "1      6  Банишора, ул. Шумен  2-СТАЕН   97300\n",
       "2      3             Банишора  2-СТАЕН  110000\n",
       "3      5             Банишора  2-СТАЕН  117990\n",
       "4      3             Банишора  2-СТАЕН  132000"
      ]
     },
     "execution_count": 10,
     "metadata": {},
     "output_type": "execute_result"
    }
   ],
   "source": [
    "apartments_data = apartments_data.drop(columns=[\"url\"])\n",
    "apartments_data.head()"
   ]
  },
  {
   "cell_type": "markdown",
   "id": "25dc858b-1412-4443-887e-48caab445f26",
   "metadata": {},
   "source": [
    "#### Parse price"
   ]
  },
  {
   "cell_type": "code",
   "execution_count": 11,
   "id": "f1c792aa-f998-4b58-aa52-02e1109d3b4f",
   "metadata": {},
   "outputs": [
    {
     "data": {
      "text/plain": [
       "dtype('int32')"
      ]
     },
     "execution_count": 11,
     "metadata": {},
     "output_type": "execute_result"
    }
   ],
   "source": [
    "apartments_data.price = apartments_data.price.astype(int)\n",
    "apartments_data.dtypes.price"
   ]
  },
  {
   "cell_type": "markdown",
   "id": "a6ae4614-e97c-469a-92dd-bbcc65069957",
   "metadata": {},
   "source": [
    "#### Remove streets from districts\n",
    "Some districts contain streets, but we don't need them."
   ]
  },
  {
   "cell_type": "code",
   "execution_count": 12,
   "id": "6beac16a-184c-4271-a753-21c0b171659f",
   "metadata": {},
   "outputs": [
    {
     "data": {
      "text/html": [
       "<div>\n",
       "<style scoped>\n",
       "    .dataframe tbody tr th:only-of-type {\n",
       "        vertical-align: middle;\n",
       "    }\n",
       "\n",
       "    .dataframe tbody tr th {\n",
       "        vertical-align: top;\n",
       "    }\n",
       "\n",
       "    .dataframe thead th {\n",
       "        text-align: right;\n",
       "    }\n",
       "</style>\n",
       "<table border=\"1\" class=\"dataframe\">\n",
       "  <thead>\n",
       "    <tr style=\"text-align: right;\">\n",
       "      <th></th>\n",
       "      <th>floor</th>\n",
       "      <th>district</th>\n",
       "      <th>type</th>\n",
       "      <th>price</th>\n",
       "    </tr>\n",
       "  </thead>\n",
       "  <tbody>\n",
       "    <tr>\n",
       "      <th>0</th>\n",
       "      <td>4</td>\n",
       "      <td>Център</td>\n",
       "      <td>1-СТАЕН</td>\n",
       "      <td>138000</td>\n",
       "    </tr>\n",
       "    <tr>\n",
       "      <th>1</th>\n",
       "      <td>6</td>\n",
       "      <td>Банишора</td>\n",
       "      <td>2-СТАЕН</td>\n",
       "      <td>97300</td>\n",
       "    </tr>\n",
       "    <tr>\n",
       "      <th>2</th>\n",
       "      <td>3</td>\n",
       "      <td>Банишора</td>\n",
       "      <td>2-СТАЕН</td>\n",
       "      <td>110000</td>\n",
       "    </tr>\n",
       "    <tr>\n",
       "      <th>3</th>\n",
       "      <td>5</td>\n",
       "      <td>Банишора</td>\n",
       "      <td>2-СТАЕН</td>\n",
       "      <td>117990</td>\n",
       "    </tr>\n",
       "    <tr>\n",
       "      <th>4</th>\n",
       "      <td>3</td>\n",
       "      <td>Банишора</td>\n",
       "      <td>2-СТАЕН</td>\n",
       "      <td>132000</td>\n",
       "    </tr>\n",
       "  </tbody>\n",
       "</table>\n",
       "</div>"
      ],
      "text/plain": [
       "   floor  district     type   price\n",
       "0      4    Център  1-СТАЕН  138000\n",
       "1      6  Банишора  2-СТАЕН   97300\n",
       "2      3  Банишора  2-СТАЕН  110000\n",
       "3      5  Банишора  2-СТАЕН  117990\n",
       "4      3  Банишора  2-СТАЕН  132000"
      ]
     },
     "execution_count": 12,
     "metadata": {},
     "output_type": "execute_result"
    }
   ],
   "source": [
    "fixed_districts = apartments_data.district.replace(street_regex, \"\", regex=True)\n",
    "\n",
    "apartments_data.district.update(fixed_districts)\n",
    "apartments_data.head()"
   ]
  },
  {
   "cell_type": "markdown",
   "id": "9c0caa53-06df-43e3-a118-556d09bf4b5c",
   "metadata": {
    "tags": []
   },
   "source": [
    "## Display distribution <a id=\"display-distribution\" />\n",
    "Now we are going to visualize how all rent and apartment ad observations are distributed by district."
   ]
  },
  {
   "cell_type": "code",
   "execution_count": 13,
   "id": "23543859-a2e4-4ac3-8e3a-d3c0fea13591",
   "metadata": {},
   "outputs": [
    {
     "data": {
      "image/png": "[encoded data removed]",
      "text/plain": [
       "<Figure size 720x1584 with 1 Axes>"
      ]
     },
     "metadata": {
      "needs_background": "light"
     },
     "output_type": "display_data"
    }
   ],
   "source": [
    "rents_by_districts_count = rents_data.district.value_counts()\n",
    "apartments_by_districts_count = apartments_data.district.value_counts()\n",
    "\n",
    "fig, ax = plt.subplots(figsize=(10,22))\n",
    "ax.invert_yaxis()\n",
    "ax.tick_params(axis=\"both\", which=\"major\", labelsize=11)\n",
    "\n",
    "ax.set_xlabel(\"Count\")\n",
    "ax.set_title(\"Districts count for rents and apartments\")\n",
    "\n",
    "alpha = 0.6\n",
    "height = 0.7\n",
    "ax.barh(\n",
    "    rents_by_districts_count.index,\n",
    "    rents_by_districts_count.values,\n",
    "    alpha=alpha,\n",
    "    height=height,\n",
    "    color=\"r\",\n",
    "    label=\"Rents\"\n",
    ")\n",
    "ax.barh(\n",
    "    apartments_by_districts_count.index,\n",
    "    apartments_by_districts_count.values, \n",
    "    alpha=alpha, \n",
    "    height=height,\n",
    "    color=\"g\",\n",
    "    label=\"Appartments\"\n",
    ")\n",
    "\n",
    "plt.legend()\n",
    "plt.show()"
   ]
  },
  {
   "cell_type": "markdown",
   "id": "b87479b0-bf78-4b5b-8a66-a3f4fc01e6db",
   "metadata": {},
   "source": [
    "## Unite both tables <a id=\"unite-both-tables\" />"
   ]
  },
  {
   "cell_type": "code",
   "execution_count": 14,
   "id": "a65199a0-834e-46a1-8862-28054ceaedc3",
   "metadata": {},
   "outputs": [
    {
     "data": {
      "text/html": [
       "<div>\n",
       "<style scoped>\n",
       "    .dataframe tbody tr th:only-of-type {\n",
       "        vertical-align: middle;\n",
       "    }\n",
       "\n",
       "    .dataframe tbody tr th {\n",
       "        vertical-align: top;\n",
       "    }\n",
       "\n",
       "    .dataframe thead th {\n",
       "        text-align: right;\n",
       "    }\n",
       "</style>\n",
       "<table border=\"1\" class=\"dataframe\">\n",
       "  <thead>\n",
       "    <tr style=\"text-align: right;\">\n",
       "      <th></th>\n",
       "      <th></th>\n",
       "      <th></th>\n",
       "      <th>rent</th>\n",
       "      <th>price</th>\n",
       "    </tr>\n",
       "    <tr>\n",
       "      <th>district</th>\n",
       "      <th>floor</th>\n",
       "      <th>type</th>\n",
       "      <th></th>\n",
       "      <th></th>\n",
       "    </tr>\n",
       "  </thead>\n",
       "  <tbody>\n",
       "    <tr>\n",
       "      <th>Американски колеж</th>\n",
       "      <th>2</th>\n",
       "      <th>3-СТАЕН</th>\n",
       "      <td>900.0</td>\n",
       "      <td>NaN</td>\n",
       "    </tr>\n",
       "    <tr>\n",
       "      <th rowspan=\"4\" valign=\"top\">Банишора</th>\n",
       "      <th>1</th>\n",
       "      <th>2-СТАЕН</th>\n",
       "      <td>332.6</td>\n",
       "      <td>155425.000000</td>\n",
       "    </tr>\n",
       "    <tr>\n",
       "      <th>2</th>\n",
       "      <th>2-СТАЕН</th>\n",
       "      <td>357.0</td>\n",
       "      <td>135133.333333</td>\n",
       "    </tr>\n",
       "    <tr>\n",
       "      <th rowspan=\"2\" valign=\"top\">3</th>\n",
       "      <th>2-СТАЕН</th>\n",
       "      <td>377.4</td>\n",
       "      <td>130888.888889</td>\n",
       "    </tr>\n",
       "    <tr>\n",
       "      <th>3-СТАЕН</th>\n",
       "      <td>500.0</td>\n",
       "      <td>NaN</td>\n",
       "    </tr>\n",
       "    <tr>\n",
       "      <th>...</th>\n",
       "      <th>...</th>\n",
       "      <th>...</th>\n",
       "      <td>...</td>\n",
       "      <td>...</td>\n",
       "    </tr>\n",
       "    <tr>\n",
       "      <th rowspan=\"2\" valign=\"top\">Хладилника</th>\n",
       "      <th>5</th>\n",
       "      <th>3-СТАЕН</th>\n",
       "      <td>NaN</td>\n",
       "      <td>270000.000000</td>\n",
       "    </tr>\n",
       "    <tr>\n",
       "      <th>6</th>\n",
       "      <th>2-СТАЕН</th>\n",
       "      <td>NaN</td>\n",
       "      <td>179000.000000</td>\n",
       "    </tr>\n",
       "    <tr>\n",
       "      <th>Център</th>\n",
       "      <th>7</th>\n",
       "      <th>1-СТАЕН</th>\n",
       "      <td>NaN</td>\n",
       "      <td>86500.000000</td>\n",
       "    </tr>\n",
       "    <tr>\n",
       "      <th>Яворов</th>\n",
       "      <th>5</th>\n",
       "      <th>3-СТАЕН</th>\n",
       "      <td>NaN</td>\n",
       "      <td>299900.000000</td>\n",
       "    </tr>\n",
       "    <tr>\n",
       "      <th>гр. Банкя</th>\n",
       "      <th>2</th>\n",
       "      <th>3-СТАЕН</th>\n",
       "      <td>NaN</td>\n",
       "      <td>199000.000000</td>\n",
       "    </tr>\n",
       "  </tbody>\n",
       "</table>\n",
       "<p>871 rows × 2 columns</p>\n",
       "</div>"
      ],
      "text/plain": [
       "                                  rent          price\n",
       "district          floor type                         \n",
       "Американски колеж 2     3-СТАЕН  900.0            NaN\n",
       "Банишора          1     2-СТАЕН  332.6  155425.000000\n",
       "                  2     2-СТАЕН  357.0  135133.333333\n",
       "                  3     2-СТАЕН  377.4  130888.888889\n",
       "                        3-СТАЕН  500.0            NaN\n",
       "...                                ...            ...\n",
       "Хладилника        5     3-СТАЕН    NaN  270000.000000\n",
       "                  6     2-СТАЕН    NaN  179000.000000\n",
       "Център            7     1-СТАЕН    NaN   86500.000000\n",
       "Яворов            5     3-СТАЕН    NaN  299900.000000\n",
       "гр. Банкя         2     3-СТАЕН    NaN  199000.000000\n",
       "\n",
       "[871 rows x 2 columns]"
      ]
     },
     "execution_count": 14,
     "metadata": {},
     "output_type": "execute_result"
    }
   ],
   "source": [
    "avg_rents = rents_data.groupby([\"district\", \"floor\", \"type\"]).agg('price').mean()\n",
    "avg_apartments_price = apartments_data.groupby([\"district\", \"floor\", \"type\"]).agg('price').mean()\n",
    "\n",
    "real_estate_data = pd.concat([avg_rents,avg_apartments_price],axis=1)\n",
    "real_estate_data.columns = [\"rent\", \"price\"]\n",
    "real_estate_data"
   ]
  },
  {
   "cell_type": "markdown",
   "id": "07a2934f-4101-4b36-a180-c3576962b2ed",
   "metadata": {
    "tags": []
   },
   "source": [
    "#### Take only mutual <a id=\"take-only-mutual\" />\n",
    "We want all records from rents and apartments to have some pair in the other set with equal district floor and type.  "
   ]
  },
  {
   "cell_type": "code",
   "execution_count": 15,
   "id": "61051f48-bd8c-498e-9ae3-6ba459d40177",
   "metadata": {},
   "outputs": [
    {
     "data": {
      "text/html": [
       "<div>\n",
       "<style scoped>\n",
       "    .dataframe tbody tr th:only-of-type {\n",
       "        vertical-align: middle;\n",
       "    }\n",
       "\n",
       "    .dataframe tbody tr th {\n",
       "        vertical-align: top;\n",
       "    }\n",
       "\n",
       "    .dataframe thead th {\n",
       "        text-align: right;\n",
       "    }\n",
       "</style>\n",
       "<table border=\"1\" class=\"dataframe\">\n",
       "  <thead>\n",
       "    <tr style=\"text-align: right;\">\n",
       "      <th></th>\n",
       "      <th></th>\n",
       "      <th></th>\n",
       "      <th>rent</th>\n",
       "      <th>price</th>\n",
       "    </tr>\n",
       "    <tr>\n",
       "      <th>district</th>\n",
       "      <th>floor</th>\n",
       "      <th>type</th>\n",
       "      <th></th>\n",
       "      <th></th>\n",
       "    </tr>\n",
       "  </thead>\n",
       "  <tbody>\n",
       "    <tr>\n",
       "      <th rowspan=\"5\" valign=\"top\">Банишора</th>\n",
       "      <th>1</th>\n",
       "      <th>2-СТАЕН</th>\n",
       "      <td>332.6</td>\n",
       "      <td>155425.000000</td>\n",
       "    </tr>\n",
       "    <tr>\n",
       "      <th>2</th>\n",
       "      <th>2-СТАЕН</th>\n",
       "      <td>357.0</td>\n",
       "      <td>135133.333333</td>\n",
       "    </tr>\n",
       "    <tr>\n",
       "      <th>3</th>\n",
       "      <th>2-СТАЕН</th>\n",
       "      <td>377.4</td>\n",
       "      <td>130888.888889</td>\n",
       "    </tr>\n",
       "    <tr>\n",
       "      <th>4</th>\n",
       "      <th>2-СТАЕН</th>\n",
       "      <td>365.5</td>\n",
       "      <td>90000.000000</td>\n",
       "    </tr>\n",
       "    <tr>\n",
       "      <th>5</th>\n",
       "      <th>2-СТАЕН</th>\n",
       "      <td>299.0</td>\n",
       "      <td>116492.500000</td>\n",
       "    </tr>\n",
       "    <tr>\n",
       "      <th>...</th>\n",
       "      <th>...</th>\n",
       "      <th>...</th>\n",
       "      <td>...</td>\n",
       "      <td>...</td>\n",
       "    </tr>\n",
       "    <tr>\n",
       "      <th rowspan=\"4\" valign=\"top\">Център</th>\n",
       "      <th rowspan=\"2\" valign=\"top\">6</th>\n",
       "      <th>3-СТАЕН</th>\n",
       "      <td>746.0</td>\n",
       "      <td>241450.000000</td>\n",
       "    </tr>\n",
       "    <tr>\n",
       "      <th>4-СТАЕН</th>\n",
       "      <td>751.9</td>\n",
       "      <td>289100.000000</td>\n",
       "    </tr>\n",
       "    <tr>\n",
       "      <th rowspan=\"2\" valign=\"top\">7</th>\n",
       "      <th>2-СТАЕН</th>\n",
       "      <td>382.5</td>\n",
       "      <td>203000.000000</td>\n",
       "    </tr>\n",
       "    <tr>\n",
       "      <th>3-СТАЕН</th>\n",
       "      <td>449.0</td>\n",
       "      <td>310000.000000</td>\n",
       "    </tr>\n",
       "    <tr>\n",
       "      <th>Яворов</th>\n",
       "      <th>3</th>\n",
       "      <th>3-СТАЕН</th>\n",
       "      <td>647.5</td>\n",
       "      <td>249000.000000</td>\n",
       "    </tr>\n",
       "  </tbody>\n",
       "</table>\n",
       "<p>188 rows × 2 columns</p>\n",
       "</div>"
      ],
      "text/plain": [
       "                         rent          price\n",
       "district floor type                         \n",
       "Банишора 1     2-СТАЕН  332.6  155425.000000\n",
       "         2     2-СТАЕН  357.0  135133.333333\n",
       "         3     2-СТАЕН  377.4  130888.888889\n",
       "         4     2-СТАЕН  365.5   90000.000000\n",
       "         5     2-СТАЕН  299.0  116492.500000\n",
       "...                       ...            ...\n",
       "Център   6     3-СТАЕН  746.0  241450.000000\n",
       "               4-СТАЕН  751.9  289100.000000\n",
       "         7     2-СТАЕН  382.5  203000.000000\n",
       "               3-СТАЕН  449.0  310000.000000\n",
       "Яворов   3     3-СТАЕН  647.5  249000.000000\n",
       "\n",
       "[188 rows x 2 columns]"
      ]
     },
     "execution_count": 15,
     "metadata": {},
     "output_type": "execute_result"
    }
   ],
   "source": [
    "real_estate_data = real_estate_data.dropna(subset=['rent','price'])\n",
    "real_estate_data"
   ]
  },
  {
   "cell_type": "markdown",
   "id": "6e490c9b-c6a5-4fc5-a6a1-1fc32241eef1",
   "metadata": {},
   "source": [
    "## Analysis of prices to rents ratio <a id=\"analysis\" />\n",
    "#### How long do you have to stay to pay the price of apartment in kind of rent?"
   ]
  },
  {
   "cell_type": "code",
   "execution_count": 16,
   "id": "c057707a-4656-4b2f-b469-3b521b53f62b",
   "metadata": {},
   "outputs": [
    {
     "name": "stdout",
     "output_type": "stream",
     "text": [
      "Min: 9 years\n",
      "Mean: 31 years\n",
      "Max: 63 years\n"
     ]
    },
    {
     "data": {
      "image/png": "[encoded data removed]",
      "text/plain": [
       "<Figure size 432x288 with 1 Axes>"
      ]
     },
     "metadata": {
      "needs_background": "light"
     },
     "output_type": "display_data"
    }
   ],
   "source": [
    "def print_years_data(text, years):\n",
    "    print(text, round(years), \"years\")\n",
    "\n",
    "months_needed_to_be_paid = (real_estate_data.price / real_estate_data.rent).values / 12\n",
    "\n",
    "print_years_data(\"Min:\", months_needed_to_be_paid.min())\n",
    "print_years_data(\"Mean:\", months_needed_to_be_paid.mean())\n",
    "print_years_data(\"Max:\", months_needed_to_be_paid.max())\n",
    "\n",
    "plt.boxplot(months_needed_to_be_paid)\n",
    "\n",
    "plt.title(\"Time to stay to pay the price of an apartment in rent\")\n",
    "plt.ylabel(\"Years\")\n",
    "plt.yticks(np.arange(0, months_needed_to_be_paid.max() + 10, 5))\n",
    "plt.show()"
   ]
  },
  {
   "cell_type": "markdown",
   "id": "de485d4a-14b5-4d2c-b897-6ac96fdc526b",
   "metadata": {},
   "source": [
    "## Conclusion: <a id=\"conclusion\" />"
   ]
  },
  {
   "cell_type": "markdown",
   "id": "4e614154-31b5-4302-b979-e5966b7f2a9b",
   "metadata": {},
   "source": [
    "In the end, if you are willing to stay for **less than 10 years** in Sofia, probably you should **rent an apartment**, and if you plan to stay for longer, you should consider a way to **buy an apartment**."
   ]
  },
  {
   "cell_type": "markdown",
   "id": "d45c1f9c-59c8-4ea4-ba66-784c78fad35c",
   "metadata": {},
   "source": [
    "#### References: \n",
    "* [Data Source](https://www.imot.bg/)"
   ]
  }
 ],
 "metadata": {
  "kernelspec": {
   "display_name": "Python 3 (ipykernel)",
   "language": "python",
   "name": "python3"
  },
  "language_info": {
   "codemirror_mode": {
    "name": "ipython",
    "version": 3
   },
   "file_extension": ".py",
   "mimetype": "text/x-python",
   "name": "python",
   "nbconvert_exporter": "python",
   "pygments_lexer": "ipython3",
   "version": "3.9.12"
  }
 },
 "nbformat": 4,
 "nbformat_minor": 5
}
